{
 "cells": [
  {
   "cell_type": "markdown",
   "metadata": {},
   "source": [
    "# Introduction\n",
    "\n",
    "problem ==> Text data present, share underlying information.\n",
    "\n",
    "motivation ==> Existing tool but slow: goal is to build a fully functionnal package, will give us an overview of a software engineering \n",
    "problem\n",
    "\n",
    "data ==> Yelp features dataset: extract the restaurants categories information; \n",
    "\n"
   ]
  },
  {
   "cell_type": "markdown",
   "metadata": {},
   "source": [
    "# 1 Theory\n",
    "\n",
    "###Classic approaches in topic modeling:\n",
    "goal is to find latent features, it's a dimensionality reduction problem (converting (documents, word) into (document,features)), SVD, NMF. Generative approach: inferring the latent distribution\n",
    "\n",
    "###Presentation of the LDA Model\n",
    "\n",
    "###Inference methods\n",
    "\n",
    "Presenting global ideas and main equation \n",
    "\n",
    "##### Gibbs sampling\n",
    "\n",
    "##### Variational Inference"
   ]
  },
  {
   "cell_type": "markdown",
   "metadata": {},
   "source": [
    "# 2 Data Preprocessing\n",
    "\n",
    "obtention ==> Yelp dataset, reviews aggregate by restaurant\n",
    "conversion into dtm: cut for only frequent words, removing stop words, removing adjective, rescaling the distribution (because each reviews carry common words)\n",
    "\n",
    "bilan: numbers"
   ]
  },
  {
   "cell_type": "markdown",
   "metadata": {},
   "source": [
    "# 3 Package design\n",
    "\n",
    "1 class: attributes, methods (to do in a separate documentation because also needed in the readme, well put the link here)\n",
    "\n",
    "test file"
   ]
  },
  {
   "cell_type": "markdown",
   "metadata": {},
   "source": [
    "# 4 Implementation\n",
    "\n",
    "### OVI\n",
    "\n",
    "details of the pseudo code, cython use and multithreading (present the impossibility to divide by region the words)\n",
    "\n",
    "### GS\n",
    "\n",
    "details of the pseudo cpde, cython use and multithreading (with 2 different approaches on lock\n",
    "\n",
    "### Result\n",
    "\n",
    "provide time results (explaining the comparaison between the two algo)+ topics"
   ]
  },
  {
   "cell_type": "markdown",
   "metadata": {},
   "source": [
    "# 5 Improvements\n"
   ]
  },
  {
   "cell_type": "markdown",
   "metadata": {},
   "source": [
    "# 6 Learnings\n",
    "\n",
    "We need to present interestings insights we learned from the project and what we enjoyed the most..."
   ]
  },
  {
   "cell_type": "code",
   "execution_count": null,
   "metadata": {
    "collapsed": true
   },
   "outputs": [],
   "source": []
  }
 ],
 "metadata": {
  "kernelspec": {
   "display_name": "Python 2",
   "language": "python",
   "name": "python2"
  },
  "language_info": {
   "codemirror_mode": {
    "name": "ipython",
    "version": 2
   },
   "file_extension": ".py",
   "mimetype": "text/x-python",
   "name": "python",
   "nbconvert_exporter": "python",
   "pygments_lexer": "ipython2",
   "version": "2.7.9"
  }
 },
 "nbformat": 4,
 "nbformat_minor": 0
}
