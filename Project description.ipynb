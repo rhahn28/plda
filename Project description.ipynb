{
 "cells": [
  {
   "cell_type": "code",
   "execution_count": 1,
   "metadata": {
    "collapsed": false
   },
   "outputs": [
    {
     "name": "stdout",
     "output_type": "stream",
     "text": [
      "Compiling with /usr/local/bin/clang-omp\n"
     ]
    }
   ],
   "source": [
    "import sys\n",
    "import os.path\n",
    "sys.path.append('src/util')\n",
    "\n",
    "import set_compiler\n",
    "set_compiler.install()\n",
    "\n",
    "import pyximport\n",
    "pyximport.install()\n",
    "\n",
    "import numpy as np\n",
    "import matplotlib.pyplot as plt\n",
    "%matplotlib inline\n",
    "sys.path.append('src')\n",
    "from OnlineVariationalInference.ovi import oviLDA\n",
    "from CollapsedGibbsSampler.cgs import cgsLDA\n",
    "from LDAutil import Evaluation\n",
    "\n",
    "import time"
   ]
  },
  {
   "cell_type": "markdown",
   "metadata": {},
   "source": [
    "# Introduction\n",
    "\n",
    "More and more text contents are shared on internet: news article, blog posts, user reviews... All these texts carry relevant information but the issue is how to process them. They could be used in machine learning models to refine prediction. \n",
    "\n",
    "For example, one popular application are the recommender systems. The goal is here to find what the users are more likely to like based on what the people similar to them liked. If we consider movies, we would like to use the synopsis, for products on online stores, we would like to use their descriptions. We could represent the text with its word counts in a [document, term] matrix. But this representation do not depict the underlying structure of the documents and their inner relationships.\n",
    "\n",
    "One possible solution to this problem is to apply a Latent Dirichlet Allocation, a topic modeling algorithm to find the latent features of the documents. Unfortunately, these methods requires many computations for large datasets. There is one serial implementation in python (https://pypi.python.org/pypi/lda) which already takes 50 minutes to run for a small document term matrix of size (2000 docs, 10 000 words).\n",
    "\n",
    "The goal of our project is to implement an LDA package in Python implementing two inference methods: the gibbs sampler and the online variatonnal inference. We took advantage of the Cython and Multithreading modules to build an optimized and parallel algorithm. Our deliverabe is be an open-source library, fully documented, easy to install and much faster than the current tools.\n",
    "\n",
    "To tackle this problem, we have to deal on one hand with ninja skills in Cython and parallel design to come up with a highly efficient algorithm and on the other hand with deep knowledge of software engineering to bring the different methods together into a functional package.\n",
    "\n",
    "In this report, we first provide the theoretical background needed to grasp the algorithm and explain the data we consider to test our algorithm. Then, we present the design of our package, digg deeply in the algorithm implementation and provides our performance results, in terms both of execution time and model accuracy. Lastly, we expose the possible improvements for the future.\n"
   ]
  },
  {
   "cell_type": "markdown",
   "metadata": {},
   "source": [
    "# 1 Theory\n",
    "\n",
    "### 1.1 LDA Model\n",
    "\n",
    "The LDA is a three-level hierarchical Bayesian model. The basic idea is that documents are represented as random mixtures over latent topics and each topic is characterized by a distribution over words.\n",
    "\n",
    "The generative process for a document w in a corpus D is the following:\n",
    "\n",
    "1. Choose the topics representation: $\\phi \\sim$ Dir($\\beta$)\n",
    "* Choose the number of words: $ N \\sim $ Poisson($ \\xi $)\n",
    "* Choose the distribution of topics: $\\theta_w \\sim$ Dir($\\alpha_w$)\n",
    "* For each of the N words:\n",
    "    1. Choose a topic assignement: $z_{n,w} \\sim \\text{Multinomial}(\\theta_w)$\n",
    "\t* Choose a word: $w_n \\sim \\text{ Multinomial}(\\phi_{z_{n,w}})$\n",
    "\n",
    "\n",
    "\n",
    "### 1.2 Inference methods\n",
    "\n",
    "The main issue relies in computing the posterior distribution of the hidden variables given a document:\n",
    "\n",
    "\\begin{align*}\n",
    "p(\\theta, \\mathbf{z} |\\mathbf{w}, \\alpha, \\beta) = \\frac{p(\\theta, \\mathbf{z}, \\mathbf{w} | \\alpha, \\beta)}{p(\\mathbf{w} | \\alpha, \\beta)}\n",
    "\\end{align*}\n",
    "\n",
    "This distribution is intractable. As mentioned above, we used two  methods to infer it: through a Gibbs sampler or variational inference. In the first case, we are estimating the hyper parameters $\\theta$ and $\\phi$ with samples on the different variables. Alternatively, we chose the online variational inference method which finds the variational parameters that optimize a lower bound on the loglikelihood. \n",
    "\n",
    "##### 1.2.1 Gibbs sampling\n",
    "\n",
    "We used the dynamic Gibbs sampling technique detailed in article 1 of References. Let $D$ be the set of documents, $V$ the set of types in the corpus. For any document $d$, type $v$, let's define $n_{dv}$ to be the number of tokens. The model inputs are:\n",
    "\n",
    "$K$ - the number of topics\n",
    "\n",
    "$df$ - the damping factor, a parameter used for dynamic sampling\n",
    "\n",
    "$\\alpha$ - hyperparameter associated with documents\n",
    "\n",
    "$\\beta$ - hyperparameter associated with topics\n",
    "\n",
    "$N$ - number of iterations\n",
    "    \n",
    "Let's define $DK$ as the document/topics matrix and $KV$ as the topics/types matrix. We also have $S$, a three-dimensional matrix where for each document/type combination we have a vector keeping a count over how many unique topics were generated from previous iterations. Initially, $S[d][v][n_{dv}] = df$ for all $d \\in D, v \\in V$. For every word in the corpus, we randomly assign it to a topic. In the case of our code, we have a running counter $count$ of the words we've traversed and we initially assign the topic to $count\\%K$. We then increment the corresponding elements in $DK$ and $KV$ that are associated with that document, topic, and type. Then for each iteration $N$:\n",
    "\n",
    "<img src=\"img/cgs_pseudocode.png\" width=600 height=400/>\n",
    "\n",
    "##### 1.2.2 Online Variational Inference\n",
    "\n",
    "The setup of the Variational Inference is as follows. We first approximate the true posterior by a simpler and factorised distribution:\n",
    "$$q(\\boldsymbol{z},\\boldsymbol{\\theta},\\boldsymbol{\\beta}) = q(\\boldsymbol{z})q(\\boldsymbol{\\theta})q(\\boldsymbol{\\beta}) $$ \n",
    "\n",
    "where:\n",
    "$$ q(z_{di} = k) = \\phi_{d_{w_{di}k}} \\quad q(\\theta_d) = \\text{Dir}(\\theta_d,\\gamma_d) \\quad q(\\beta_k) = \\text{Dir}(\\beta_k,\\lambda_k) $$\n",
    "\n",
    "The $\\boldsymbol{\\gamma}$ parameter rules the topic assignments for each document and the $\\boldsymbol{\\lambda}$, the topics themselves. We then minimise the KL divergence between the distribution $q$ and the true posterior $p$ like for the usual variational inference. What differs in online variational inference is that we sample a batch of document at each step and perform the E-step as if this batch constituted the entire corpus. \n",
    "\n",
    "We present the algorithm below:\n",
    "\n",
    "<img src=\"img/ovi_pseudocode.png\" width=500 height=300/>\n",
    "\n",
    "where $\\kappa \\in (0.5,1]$ rules how fast we forget old values of $\\tilde{\\lambda}$ and $\\tau_{0}$ how much weight one wants to put on the first iterations. \n",
    "\n",
    "\n",
    "### 1.3 Evaluation methods\n",
    "\n",
    "We need a measure to evaluate the performance of our model and to tune the hyperparameters. We use perplexity on held-out data as a measure of our model fit. Perplexity is defined as the geometric mean of the log likelihood of the words in the held-out set of documents given the trained model. In our case, for each document we held out 20% of the words which constitute the test set.\n",
    "\n",
    "\\begin{align*}\n",
    "\tperplexity(D_{test}) & = \\frac{\\sum\\limits_{d \\in D_{test}} \\log p(words)}{\\sum\\limits_{d \\in D_{test}|d|}}\\\\\n",
    "\tperplexity(D_{test}) & = \\frac{\\sum\\limits_{d \\in D_{test}} \\sum\\limits_{w \\in d} \\log \\left( \\sum_{t \\in topics} p(w|t)p(t|d) \\right)}{\\sum\\limits_{d \\in D_{test}|d|}}\n",
    "\\end{align*}\n",
    "\n"
   ]
  },
  {
   "cell_type": "markdown",
   "metadata": {},
   "source": [
    "# 2 Data\n",
    "\n",
    "### 2.1 Presentation\n",
    "\n",
    "We chose to apply the latent dirichlet allocation on user reviews from the Yelp website. We focused only on the restaurants from a specific city (Las Vegas). The objective is to infer both the restaurants categories present in Las Vegas (using the topic distribution provided by the lda) and the categories for each restaurant (using the topics assignement of eahc restaurant).\n",
    "\n",
    "We download the raw data made available by Yelp for its dataset challenge competition (http://www.yelp.com/dataset_challenge). For the Las Vegas restaurants, we have ~20 000 reviews of average size ~100 words, the set of unique words being larger than 50 000.\n",
    "\n",
    "\n",
    "### 2.2 Processing\n",
    "\n",
    "The dataset contains 3822 businesses, considered here as documents. Cleaning the reviews represented a significant part of this final project. We present some of the steps we followed in the process:\\\\\n",
    "\n",
    "* We aggregated all the reviews about a particular business into a \"super\" review, in order to get a general sense of what the restaurant was about;\n",
    "* We applied spelling corrections, removed common stopwords and generic words such as \"table\" or \"restaurants\";\n",
    "* We attempted at only selecting common words and not adjectives in order to focus on what the venues were about and not the users' opinions (this process was done taking advantage of Spark to reduce the computing time);\n",
    "* We transformed the corpus of \"super reviews\" into a document-term matrix that we could exploit.\n",
    "* We aggregated reviews so some words may be much more used than other and we still want to take advantage of all the available information. As a result, we down scaled the words counts into the range [0, 100]. \n",
    "\n",
    "The processing lead to a document term matrix of size (2 000 words, 10 000 documents)\n"
   ]
  },
  {
   "cell_type": "markdown",
   "metadata": {},
   "source": [
    "# 3 Package design\n",
    "\n",
    "We worked hard on building a very well organized and documentation package. The documentation is provided in the readme file on the github repository : https://github.com/virgodi/plda\n"
   ]
  },
  {
   "cell_type": "markdown",
   "metadata": {},
   "source": [
    "# 4 Implementation Details\n",
    "\n",
    "### 4.1 OVI\n",
    "\n",
    "The online variational inference implementation implies a single pass of the algorithm on each document. The only parallelisation is feasible on the loop over the documents is using mini-batch of documents and updating the topics distribution between these batch. As a result, we chose to implement a mini-batch version where the work inside the batch is divided among threads. \n",
    "\n",
    "We first wrote a functional version in Cython without using any Python library (like numpy) to be able to release the gil. To parallelise the work among threads, we needed to find an efficient combination of shared and private memories between the threads.\n",
    "\n",
    "#### Cython code\n",
    "\n",
    "memory view type used, taylor approximation of the digamma function\n",
    "\n",
    "#### Multithreading\n",
    "\n",
    "local version per thread of the temporary topics distribution. Less expensive than locks . Not possible to work on the same topics matrix with locks over words region because of the gamma update at each iteration of the inner loop, neither it is with locks over the topics because of the normalization needed to update gamma.\n",
    "\n",
    "\n",
    "### 4.2 CGS\n",
    "\n",
    "We provide Cython functions on initializing the topics and carrying out N iterations of Gibbs sampling over specified documents and words. Using these functions we provide two parallel methods - these methods correspond to setting split_words to True or False. The model also takes an input sync_interval, which will be explained below.\n",
    "\n",
    "#### split_words = False:    \n",
    "\n",
    "This is the default implementation. The documents are split evenly among the threads. Each thread iterates through only those documents when performing the Gibbs sampling. Since there may be race conditions over the gamma matrix, each thread stores a local copy to update. Every sync_interval iterations, each thread calculates the difference between the global and local gamma - then it either waits on the specified Condition object or if it's the last thread to enter this block it will notify each thread that the differences have all been calculated. Then, each thread will add their differences to the global gamma again one at a time and wait. Once the last thread adds its differences, the global gamma is synced and each thread will copy it to their local gamma and continue the sampling. Increasing the sync_interval will increase the speed, but results will be less accurate as the individual threads will lose the topic information from the other documents.\n",
    "        \n",
    "#### split_words = True:\n",
    "\n",
    "If the corpus is large, storing a local gamma matrix is incredibly wasteful. This approach not only splits by documents, but splits the types V into even blocks according to the number of threads as well - V_1, V_2, ... V_threads. Each block of types has an associated lock - to calculate over the block of words the thread needs to acquire the lock. In each iteration of Gibbs sampling, thread i will start on V_i, acquire it's associated lock and start sampling. When it's completed it's block of words over it's associated documents, it will try to acquire the lock of the next block of words, blocking if needed. Using these locks, we guarantee that no two threads access the same word at the same time, so race conditions are prevented from the global gamma matrix. For small datasets, the locking costs outweigh the benefit of synchronizing local matrices, but for our Las Vegas dataset we saw that this performed better. This approach was based off link 2 in the References section. Their pseudocode implies they wait for all threads to finish calculating their respective type blocks until moving to the next one, where as we utilize locks to have the threads move asynchronously."
   ]
  },
  {
   "cell_type": "markdown",
   "metadata": {},
   "source": [
    "# Result\n",
    "\n",
    "We have two datasets to work with - a smaller Reuters dataset provided in the Python lda package and our cleaned Las Vegas data.\n",
    "\n",
    "We first want to test speed on our different parallelization methods across both data sets and see how they scale.\n",
    "\n",
    "Next, we run a cross-validation on the number of topics and calculate perplexity measures"
   ]
  },
  {
   "cell_type": "code",
   "execution_count": 2,
   "metadata": {
    "collapsed": false
   },
   "outputs": [],
   "source": [
    "# Loading the data: too heavy to be on github, a zip file has been attached in lasvegas folder\n",
    "# Be sure to unzip the dtm file and adjust the relative location of the file\n",
    "import numpy as np\n",
    "dtm = np.load('lasvegas/lv_dtm.npy').astype(np.dtype('i'))\n",
    "# Data for cross validation\n",
    "dtm_train = np.load('../Lasvegas/dtm_lv_train.npy').astype(np.dtype('i'))\n",
    "dtm_test = np.load('../Lasvegas/dtm_lv_test.npy').astype(np.dtype('i'))\n",
    "vocablv = np.load('lasvegas/lv_vocab10.npy')\n",
    "reutdtm = np.load('reuters/dtm.npy').astype(np.dtype('i'))\n",
    "reutvoc = np.load('reuters/vocab.npy')"
   ]
  },
  {
   "cell_type": "markdown",
   "metadata": {},
   "source": [
    "## Speed"
   ]
  },
  {
   "cell_type": "code",
   "execution_count": 3,
   "metadata": {
    "collapsed": true
   },
   "outputs": [],
   "source": [
    "#let's run our models on 4,8,16 threads to get an idea of speedup over reuters and lasvegas data sets\n",
    "def speed_test(model_name, model):\n",
    "    threads = [4,8,16]\n",
    "    reut_speeds = []\n",
    "    lv_speeds = []\n",
    "    for t in threads:\n",
    "        model.set_num_threads(t)\n",
    "        start = time.time()\n",
    "        model.fit(reutdtm)\n",
    "        reut_speeds.append(time.time()-start)\n",
    "        start = time.time()\n",
    "        model.fit(dtm)\n",
    "        lv_speeds.append(time.time()-start)\n",
    "    fig, ax = plt.subplots()\n",
    "    ax.plot(threads, reut_speeds, 'r--', label='Reuters')\n",
    "    for tl in ax.get_yticklabels():\n",
    "        tl.set_color('r')\n",
    "    ax2 = ax.twinx()\n",
    "    ax2.plot(threads, lv_speeds, 'b--', label='Las Vegas')\n",
    "    for tl in ax2.get_yticklabels():\n",
    "        tl.set_color('b')\n",
    "    \n",
    "\n",
    "    legend = ax.legend(loc='upper left', shadow=True)\n",
    "    legend2 = ax2.legend(loc='upper right', shadow=True)\n",
    "\n",
    "    frame = legend.get_frame()\n",
    "    frame.set_facecolor('0.90')\n",
    "\n",
    "    for label in legend.get_texts():\n",
    "        label.set_fontsize('large')\n",
    "\n",
    "    for label in legend.get_lines():\n",
    "        label.set_linewidth(1.5)\n",
    "        \n",
    "    ax.set_ylim([0, max(reut_speeds)*1.4])\n",
    "    ax2.set_ylim([0, max(lv_speeds)*1.4])\n",
    "    ax.set_xlabel('Threads')\n",
    "    ax.set_ylabel('Time (s)', color='r')\n",
    "    ax2.set_ylabel('Time (s)', color='b')\n",
    "    plt.title(\"Fit speeds for \" + model_name)\n",
    "    plt.show()"
   ]
  },
  {
   "cell_type": "code",
   "execution_count": 4,
   "metadata": {
    "collapsed": false
   },
   "outputs": [
    {
     "data": {
      "image/png": "[encoded data removed]",
      "text/plain": [
       "<matplotlib.figure.Figure at 0x105ac20d0>"
      ]
     },
     "metadata": {},
     "output_type": "display_data"
    }
   ],
   "source": [
    "#1000 max iterations\n",
    "model_ovi = oviLDA(num_topics=40, num_threads=16, batch_size=50)\n",
    "speed_test(\"OVI\", model_ovi)"
   ]
  },
  {
   "cell_type": "markdown",
   "metadata": {},
   "source": [
    "OVI is a faster algorithm by nature, only iterating through each document once. Still, you see some speedups over the large Las Vegas data. With Reuters, the overhead of creating new threads is probably larger than the actual runtime."
   ]
  },
  {
   "cell_type": "code",
   "execution_count": 5,
   "metadata": {
    "collapsed": false
   },
   "outputs": [
    {
     "data": {
      "image/png": "[encoded data removed]",
      "text/plain": [
       "<matplotlib.figure.Figure at 0x10925b150>"
      ]
     },
     "metadata": {},
     "output_type": "display_data"
    }
   ],
   "source": [
    "model_cgs = cgsLDA(num_topics=40, num_threads=16, iterations=1500, sync_interval=5, split_words = False)\n",
    "speed_test(\"CGS_Sync\", model_cgs)"
   ]
  },
  {
   "cell_type": "markdown",
   "metadata": {},
   "source": [
    "This is the sync method - the topics/words matrices are stored locally on each thread and copied after every 5 iterations (sync_interval = 5). With the Reuters data, it seems we've reached the speedup capable - the locking required to synchronize outways our parallelism. However, we do get a nice speedup from 4 to 8 threads on the Las Vegas dataset. Let's see if increasing the sync_interval will help speedup."
   ]
  },
  {
   "cell_type": "code",
   "execution_count": null,
   "metadata": {
    "collapsed": true
   },
   "outputs": [],
   "source": [
    "model_cgs.set_sync_interval(50)\n",
    "speed_test(\"CGS_Sync\", model_cgs)"
   ]
  },
  {
   "cell_type": "markdown",
   "metadata": {},
   "source": [
    "As expected increasing the sync_interval speeds the process up a bit - but it's a slippery slope. More iterations are only using an accurate distribution over a subset of documents, so depending on the sparsity of your corpus the results may be rather poor. In that case it's important to analyze the perplexity of your results, which we will demonstrate below."
   ]
  },
  {
   "cell_type": "code",
   "execution_count": 6,
   "metadata": {
    "collapsed": false
   },
   "outputs": [
    {
     "data": {
      "image/png": "[encoded data removed]",
      "text/plain": [
       "<matplotlib.figure.Figure at 0x105ac2590>"
      ]
     },
     "metadata": {},
     "output_type": "display_data"
    }
   ],
   "source": [
    "model_cgs.set_split_words(True)\n",
    "speed_test(\"CGS_Lock\", model_cgs)"
   ]
  },
  {
   "cell_type": "markdown",
   "metadata": {},
   "source": [
    "This is the lock method - the topics/words are both split with locking to avoid storing a local copy of the topics-words matrix. This is a pretty good speedup! Note that the Reuters performs slower here than in the sync version, but in the case with the Las Vegas data it performs as well or better, and scales better as well. Given the size of the dataset which parallelism we choose matters!"
   ]
  },
  {
   "cell_type": "code",
   "execution_count": 4,
   "metadata": {
    "collapsed": false
   },
   "outputs": [
    {
     "name": "stderr",
     "output_type": "stream",
     "text": [
      "WARNING:lda:all zero column in document-term matrix found\n"
     ]
    },
    {
     "name": "stdout",
     "output_type": "stream",
     "text": [
      "Baseline for Reuters data is:65.8305959702\n",
      "Baseline for Las Vegas data is:2357.78971004\n"
     ]
    }
   ],
   "source": [
    "#Speed baselines\n",
    "#Some compiler incompatibility - will need to restart and rerun without the set_compiler command\n",
    "import lda\n",
    "import time\n",
    "lda = lda.LDA(n_topics = 40, n_iter=1500)\n",
    "start = time.time()\n",
    "lda.fit(reutdtm)\n",
    "print \"Baseline for Reuters data is:{}\".format(time.time() - start)\n",
    "start = time.time()\n",
    "lda.fit(dtm)\n",
    "print \"Baseline for Las Vegas data is:{}\".format(time.time() - start)"
   ]
  },
  {
   "cell_type": "markdown",
   "metadata": {},
   "source": [
    "Compared to the existing lda package, our methods outperform quite a bit!"
   ]
  },
  {
   "cell_type": "markdown",
   "metadata": {},
   "source": [
    "## Perplexity"
   ]
  },
  {
   "cell_type": "code",
   "execution_count": 5,
   "metadata": {
    "collapsed": false
   },
   "outputs": [],
   "source": [
    "# Cross validation on the number of topics\n",
    "def cv(model_name, model):\n",
    "    K = range(40, 100, 5)\n",
    "    perplexity_dict = {}\n",
    "    for k in K:\n",
    "        model.set_topics(k)\n",
    "        %time model.fit(dtm_train)\n",
    "        perplexity_dict[k] = Evaluation.perplexity(model, dtm_test)\n",
    "    perp_val = sorted(perplexity_dict.items(), key=lambda x: x[0])\n",
    "    plt.plot([p[0] for p in perp_val], [p[1] for p in perp_val])\n",
    "    plt.xlabel('Number of topics')\n",
    "    plt.ylabel('Perplexity')\n",
    "    plt.title('Cross validation for ' + model_name)\n",
    "    plt.show()"
   ]
  },
  {
   "cell_type": "code",
   "execution_count": 6,
   "metadata": {
    "collapsed": false
   },
   "outputs": [
    {
     "name": "stdout",
     "output_type": "stream",
     "text": [
      "CPU times: user 1min 1s, sys: 1.87 s, total: 1min 3s\n",
      "Wall time: 26.2 s\n",
      "CPU times: user 1min 22s, sys: 2.03 s, total: 1min 24s\n",
      "Wall time: 33.7 s\n",
      "CPU times: user 1min 35s, sys: 2.12 s, total: 1min 37s\n",
      "Wall time: 36.6 s\n",
      "CPU times: user 1min 50s, sys: 2.36 s, total: 1min 53s\n",
      "Wall time: 42 s\n",
      "CPU times: user 2min 9s, sys: 2.63 s, total: 2min 12s\n",
      "Wall time: 49 s\n",
      "CPU times: user 2min 29s, sys: 2.88 s, total: 2min 32s\n",
      "Wall time: 55.4 s\n",
      "CPU times: user 2min 29s, sys: 3.04 s, total: 2min 32s\n",
      "Wall time: 56.2 s\n",
      "CPU times: user 2min 55s, sys: 3.33 s, total: 2min 58s\n",
      "Wall time: 1min 5s\n",
      "CPU times: user 2min 37s, sys: 3.49 s, total: 2min 41s\n",
      "Wall time: 59.3 s\n",
      "CPU times: user 2min 54s, sys: 4.4 s, total: 2min 59s\n",
      "Wall time: 1min 10s\n",
      "CPU times: user 3min 19s, sys: 4.67 s, total: 3min 24s\n",
      "Wall time: 1min 19s\n",
      "CPU times: user 3min 12s, sys: 4.58 s, total: 3min 17s\n",
      "Wall time: 1min 15s\n"
     ]
    },
    {
     "data": {
      "image/png": "[encoded data removed]",
      "text/plain": [
       "<matplotlib.figure.Figure at 0x109f52890>"
      ]
     },
     "metadata": {},
     "output_type": "display_data"
    }
   ],
   "source": [
    "model_ovi = oviLDA(num_topics=40, num_threads=16, batch_size=50)\n",
    "cv(\"OVI\", model_ovi)"
   ]
  },
  {
   "cell_type": "code",
   "execution_count": 9,
   "metadata": {
    "collapsed": false
   },
   "outputs": [
    {
     "name": "stdout",
     "output_type": "stream",
     "text": [
      "CPU times: user 50min 11s, sys: 9.61 s, total: 50min 21s\n",
      "Wall time: 6min 42s\n",
      "CPU times: user 56min 30s, sys: 10.7 s, total: 56min 41s\n",
      "Wall time: 7min 35s\n",
      "CPU times: user 1h 2min 16s, sys: 9.44 s, total: 1h 2min 26s\n",
      "Wall time: 8min 24s\n",
      "CPU times: user 1h 8min 26s, sys: 10.3 s, total: 1h 8min 37s\n",
      "Wall time: 9min 8s\n",
      "CPU times: user 1h 13min 29s, sys: 9.67 s, total: 1h 13min 39s\n",
      "Wall time: 9min 42s\n",
      "CPU times: user 1h 20min 18s, sys: 13.7 s, total: 1h 20min 32s\n",
      "Wall time: 10min 46s\n",
      "CPU times: user 1h 26min 41s, sys: 13.1 s, total: 1h 26min 54s\n",
      "Wall time: 11min 31s\n",
      "CPU times: user 1h 31min 21s, sys: 15.2 s, total: 1h 31min 36s\n",
      "Wall time: 12min 10s\n"
     ]
    },
    {
     "data": {
      "image/png": "[encoded data removed]",
      "text/plain": [
       "<matplotlib.figure.Figure at 0x1092f3d10>"
      ]
     },
     "metadata": {},
     "output_type": "display_data"
    }
   ],
   "source": [
    "model_cgs = cgsLDA(num_topics=40, num_threads=16, iterations=1500, sync_interval=5, split_words = False)\n",
    "cv(\"CGS_Sync\", model_cgs)"
   ]
  },
  {
   "cell_type": "code",
   "execution_count": 10,
   "metadata": {
    "collapsed": false
   },
   "outputs": [
    {
     "name": "stdout",
     "output_type": "stream",
     "text": [
      "CPU times: user 32min 40s, sys: 6.79 s, total: 32min 47s\n",
      "Wall time: 4min 26s\n",
      "CPU times: user 35min 56s, sys: 6.92 s, total: 36min 3s\n",
      "Wall time: 4min 56s\n",
      "CPU times: user 38min 48s, sys: 5.82 s, total: 38min 54s\n",
      "Wall time: 5min 28s\n",
      "CPU times: user 41min 42s, sys: 5.17 s, total: 41min 47s\n",
      "Wall time: 5min 53s\n",
      "CPU times: user 45min 3s, sys: 6.15 s, total: 45min 9s\n",
      "Wall time: 6min 9s\n",
      "CPU times: user 48min 6s, sys: 6.66 s, total: 48min 13s\n",
      "Wall time: 6min 53s\n",
      "CPU times: user 51min 35s, sys: 7.24 s, total: 51min 42s\n",
      "Wall time: 7min 18s\n",
      "CPU times: user 54min 46s, sys: 7.22 s, total: 54min 54s\n",
      "Wall time: 7min 43s\n"
     ]
    },
    {
     "data": {
      "image/png": "[encoded data removed]",
      "text/plain": [
       "<matplotlib.figure.Figure at 0x10ad373d0>"
      ]
     },
     "metadata": {},
     "output_type": "display_data"
    }
   ],
   "source": [
    "model_cgs.set_split_words(True)\n",
    "cv(\"CGS_Lock\", model_cgs)"
   ]
  },
  {
   "cell_type": "markdown",
   "metadata": {},
   "source": [
    "# 5 Improvements\n",
    "\n",
    "The Gibbs sampling is currently divided up evenly by number of documents and number of types. If there are 12 documents and you want 4 threads, each thread gets 3 documents. If there are 100 types in the corpus it'd get split up into groups of 25 if split_words is set to True. A better way to divide up the documents and types would be by the number of tokens - if one document has many more tokens than another, they should not be treated equally. Likewise if a group of tokens are heavily used they should be split evenly among the threads."
   ]
  },
  {
   "cell_type": "markdown",
   "metadata": {},
   "source": [
    "# 6 Learnings\n",
    "\n",
    "As there were two Gibbs sampling parallelization methods, it was interesting to see how each one performed under small and large data sets. Using the reuters data (which can be found in the reuters folder), the preferred method was storing a local copy of gamma. Since it was relatively small the synchronization costs weren't as great as if there was locking between the types. However, we found the locking method preferable for the las vegas dataset."
   ]
  },
  {
   "cell_type": "markdown",
   "metadata": {
    "collapsed": true
   },
   "source": [
    "# References\n",
    "\n",
    "1. <a href=\"http://jmlr.csail.mit.edu/proceedings/papers/v13/xiao10a/xiao10a.pdf\">Dynamic Gibbs Sampling</a>\n",
    "2. <a href=\"https://www.cs.purdue.edu/homes/alanqi/papers/Parallel-Inf-LDA-GPU-NIPS.pdf\">Parallel CGS</a>"
   ]
  },
  {
   "cell_type": "code",
   "execution_count": null,
   "metadata": {
    "collapsed": true
   },
   "outputs": [],
   "source": []
  }
 ],
 "metadata": {
  "kernelspec": {
   "display_name": "Python 2",
   "language": "python",
   "name": "python2"
  },
  "language_info": {
   "codemirror_mode": {
    "name": "ipython",
    "version": 2
   },
   "file_extension": ".py",
   "mimetype": "text/x-python",
   "name": "python",
   "nbconvert_exporter": "python",
   "pygments_lexer": "ipython2",
   "version": "2.7.9"
  }
 },
 "nbformat": 4,
 "nbformat_minor": 0
}
